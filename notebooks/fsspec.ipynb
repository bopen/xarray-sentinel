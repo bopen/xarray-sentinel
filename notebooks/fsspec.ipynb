{
 "cells": [
  {
   "cell_type": "code",
   "execution_count": null,
   "id": "76a45b2f",
   "metadata": {},
   "outputs": [],
   "source": [
    "import xarray as xr\n",
    "\n",
    "import xarray_sentinel"
   ]
  },
  {
   "cell_type": "code",
   "execution_count": null,
   "id": "8e8bd886",
   "metadata": {},
   "outputs": [],
   "source": [
    "# rasterio 1.3 is needed for fsspec support to work\n",
    "# pip install -U --pre --no-deps --no-binary rasterio \"rasterio>=1.3a3\""
   ]
  },
  {
   "cell_type": "markdown",
   "id": "7d350b72",
   "metadata": {},
   "source": [
    "## local zip file"
   ]
  },
  {
   "cell_type": "code",
   "execution_count": null,
   "id": "ec537b7f",
   "metadata": {},
   "outputs": [],
   "source": [
    "product_path = \"zip://*/manifest.safe::data/S1B_S6_GRDH_1SDV_20211216T115438_20211216T115501_030050_03968A_0F8A.zip\"\n",
    "ds = xarray_sentinel.open_sentinel1_dataset(product_path)\n",
    "ds"
   ]
  },
  {
   "cell_type": "code",
   "execution_count": null,
   "id": "2858e010",
   "metadata": {},
   "outputs": [],
   "source": [
    "ds = xarray_sentinel.open_sentinel1_dataset(product_path, group=\"S6/VH/orbit\")\n",
    "ds"
   ]
  },
  {
   "cell_type": "code",
   "execution_count": null,
   "id": "c1d5ec7a",
   "metadata": {
    "scrolled": false
   },
   "outputs": [],
   "source": [
    "ds = xarray_sentinel.open_sentinel1_dataset(product_path, group=\"S6/VH\")\n",
    "ds"
   ]
  },
  {
   "cell_type": "code",
   "execution_count": null,
   "id": "c3bc593b",
   "metadata": {
    "scrolled": false
   },
   "outputs": [],
   "source": [
    "_ = ds.measurement[2000:4000, 2000:4000].plot(vmax=100)"
   ]
  },
  {
   "cell_type": "markdown",
   "id": "0bd337b6",
   "metadata": {},
   "source": [
    "## remote fake file from github"
   ]
  },
  {
   "cell_type": "code",
   "execution_count": null,
   "id": "d260c490",
   "metadata": {},
   "outputs": [],
   "source": [
    "product_path = \"github://bopen:xarray-sentinel@/tests/data/S1B_IW_SLC__1SDV_20210401T052622_20210401T052650_026269_032297_EFA4.SAFE\"\n",
    "ds = xarray_sentinel.open_sentinel1_dataset(product_path)\n",
    "ds"
   ]
  },
  {
   "cell_type": "code",
   "execution_count": null,
   "id": "5a316651",
   "metadata": {},
   "outputs": [],
   "source": [
    "ds = xarray_sentinel.open_sentinel1_dataset(product_path, group=\"IW1/VH/orbit\")\n",
    "ds"
   ]
  },
  {
   "cell_type": "code",
   "execution_count": null,
   "id": "07302996",
   "metadata": {},
   "outputs": [],
   "source": [
    "ds = xarray_sentinel.open_sentinel1_dataset(product_path, group=\"IW1/VH/2\")\n",
    "ds"
   ]
  },
  {
   "cell_type": "code",
   "execution_count": null,
   "id": "6bea7088",
   "metadata": {},
   "outputs": [],
   "source": [
    "abs(ds.measurement).mean().compute()"
   ]
  },
  {
   "cell_type": "markdown",
   "id": "e3ee52d6",
   "metadata": {},
   "source": [
    "## remote fake file from a zip on github"
   ]
  },
  {
   "cell_type": "code",
   "execution_count": null,
   "id": "cf2ea217",
   "metadata": {},
   "outputs": [],
   "source": [
    "product_path = \"zip://*/manifest.safe::github://bopen:xarray-sentinel@/tests/data/S1B_IW_SLC__1SDV_20210401T052622_20210401T052650_026269_032297_EFA4.zip\"\n",
    "ds = xarray_sentinel.open_sentinel1_dataset(product_path)\n",
    "ds"
   ]
  },
  {
   "cell_type": "code",
   "execution_count": null,
   "id": "634089c1",
   "metadata": {},
   "outputs": [],
   "source": [
    "ds = xarray_sentinel.open_sentinel1_dataset(product_path, group=\"IW1/VH/orbit\")\n",
    "ds"
   ]
  },
  {
   "cell_type": "code",
   "execution_count": null,
   "id": "3e656f38",
   "metadata": {},
   "outputs": [],
   "source": [
    "ds = xarray_sentinel.open_sentinel1_dataset(product_path, group=\"IW1/VH/2\")\n",
    "ds"
   ]
  },
  {
   "cell_type": "code",
   "execution_count": null,
   "id": "58bc770e",
   "metadata": {},
   "outputs": [],
   "source": [
    "abs(ds.measurement).mean().compute()"
   ]
  },
  {
   "cell_type": "markdown",
   "id": "a498362e",
   "metadata": {},
   "source": [
    "## remote file on Microsoft Planetary Computer"
   ]
  },
  {
   "cell_type": "code",
   "execution_count": null,
   "id": "d8ab1d18",
   "metadata": {},
   "outputs": [],
   "source": [
    "import planetary_computer\n",
    "\n",
    "account_name = \"sentinel1euwest\"\n",
    "token = planetary_computer.sas.get_token(account_name, \"s1-grd\").token\n",
    "\n",
    "product_folder = (\n",
    "    \"s1-grd/GRD/2022/1/10/IW/DV/\"\n",
    "    \"S1A_IW_GRDH_1SDV_20220110T050922_20220110T050947_041394_04EBF7_A360\"\n",
    ")\n",
    "\n",
    "storage_options = {\"account_name\": \"sentinel1euwest\", \"sas_token\": token}\n",
    "product_path = f\"abfs://{product_folder}/manifest.safe\"\n",
    "\n",
    "ds = xr.open_dataset(\n",
    "    product_path,\n",
    "    engine=\"sentinel-1\",\n",
    "    storage_options=storage_options,\n",
    ")\n",
    "ds"
   ]
  },
  {
   "cell_type": "code",
   "execution_count": null,
   "id": "97a42b81",
   "metadata": {},
   "outputs": [],
   "source": [
    "ds = xr.open_dataset(\n",
    "    product_path,\n",
    "    engine=\"sentinel-1\",\n",
    "    storage_options=storage_options,\n",
    "    group=\"IW/VV\",\n",
    "    chunks=2048,\n",
    "    override_product_files=\"{dirname}/{swath}-{polarization}{ext}\",\n",
    ")\n",
    "ds"
   ]
  },
  {
   "cell_type": "code",
   "execution_count": null,
   "id": "c70f9b0b",
   "metadata": {},
   "outputs": [],
   "source": [
    "_ = ds.measurement[:2048, 2048:4096].plot(vmax=300)"
   ]
  },
  {
   "cell_type": "code",
   "execution_count": null,
   "id": "54a28d57",
   "metadata": {},
   "outputs": [],
   "source": []
  }
 ],
 "metadata": {
  "kernelspec": {
   "display_name": "Python 3 (ipykernel)",
   "language": "python",
   "name": "python3"
  },
  "language_info": {
   "codemirror_mode": {
    "name": "ipython",
    "version": 3
   },
   "file_extension": ".py",
   "mimetype": "text/x-python",
   "name": "python",
   "nbconvert_exporter": "python",
   "pygments_lexer": "ipython3",
   "version": "3.10.4"
  }
 },
 "nbformat": 4,
 "nbformat_minor": 5
}
